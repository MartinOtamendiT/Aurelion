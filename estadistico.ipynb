{
 "cells": [
  {
   "cell_type": "markdown",
   "id": "e1edf376",
   "metadata": {},
   "source": [
    "# Análisis Exploratorio de Datos (EDA) de la tienda Aurelion"
   ]
  },
  {
   "cell_type": "markdown",
   "id": "5d41e790",
   "metadata": {},
   "source": [
    "Etapas del EDA (TODO):\n",
    "1. Definición del problema.\n",
    "2. Importación e inspección inicial de los datos:\n",
    "    * Importación de datos.  ✅\n",
    "    * Inspección de datos (estructura, dimensionalidad, primeras/últimas filas). ✅\n",
    "    * Integración de datos. ✅\n",
    "    * Cálculo de estadísticas descriptivas básicas. ✅\n",
    "3. Limpieza y transformación de datos:\n",
    "    * Corrección de tipos de datos. ✅\n",
    "    * Tratamiento de datos ausentes.\n",
    "    * Tratamiento de inconsistencias de formato.\n",
    "    * Eliminación de duplicados.\n",
    "4. Tratamiento de datos atípicos.\n",
    "5. Análisis univariado (distribución y comportamiento de cada variable).\n",
    "6. Análisis bivariado (asociaciones y correlaciones).\n",
    "7. Análisis de tendencias.\n",
    "8. Conclusiones."
   ]
  },
  {
   "cell_type": "markdown",
   "id": "b2b81e93",
   "metadata": {},
   "source": [
    "## 1. Definición del problema"
   ]
  },
  {
   "cell_type": "markdown",
   "id": "f8b5cae8",
   "metadata": {},
   "source": [
    "Objetivo: Análisis de ventas por periodos (comparativas por mes, trimestre, año), por volumen total de ventas (número de transacciones, cantidad de productos vendidos),total de ingresos o facturación, número de clientes únicos, ventas por género."
   ]
  },
  {
   "cell_type": "markdown",
   "id": "96026940",
   "metadata": {},
   "source": [
    "## 2. Importación e inspección inicial de los datos:"
   ]
  },
  {
   "cell_type": "markdown",
   "id": "f6572fca",
   "metadata": {},
   "source": [
    "### Importación de librerías y carga de datos"
   ]
  },
  {
   "cell_type": "code",
   "execution_count": 159,
   "id": "db91618f",
   "metadata": {},
   "outputs": [],
   "source": [
    "import pandas as pd\n",
    "import numpy as np\n",
    "import matplotlib.pyplot as plt\n",
    "import seaborn as sns\n",
    "\n",
    "ventas = pd.read_excel(\"./data/ventas.xlsx\")\n",
    "productos = pd.read_excel(\"./data/productos_corregidos.xlsx\")\n",
    "clientes = pd.read_excel(\"./data/clientes.xlsx\")\n",
    "detalle_ventas = pd.read_excel(\"./data/detalle_ventas.xlsx\")"
   ]
  },
  {
   "cell_type": "markdown",
   "id": "c22e44f2",
   "metadata": {},
   "source": [
    "### Inspección inicial de los datos"
   ]
  },
  {
   "cell_type": "markdown",
   "id": "52753ce2",
   "metadata": {},
   "source": [
    "#### Inspección de la tabla \"detalle_ventas\""
   ]
  },
  {
   "cell_type": "code",
   "execution_count": 160,
   "id": "6a17ac88",
   "metadata": {},
   "outputs": [
    {
     "name": "stdout",
     "output_type": "stream",
     "text": [
      "   id_venta  id_producto        nombre_producto  cantidad  precio_unitario  \\\n",
      "0         1           90    Toallas Húmedas x50         1             2902   \n",
      "1         2           82  Aceitunas Negras 200g         5             2394   \n",
      "2         2           39     Helado Vainilla 1L         5              469   \n",
      "3         2           70           Fernet 750ml         2             4061   \n",
      "4         2           22  Medialunas de Manteca         1             2069   \n",
      "\n",
      "   importe  \n",
      "0     2902  \n",
      "1    11970  \n",
      "2     2345  \n",
      "3     8122  \n",
      "4     2069  \n",
      "--------------------------------------------------------------------------------\n",
      "<class 'pandas.core.frame.DataFrame'>\n",
      "RangeIndex: 343 entries, 0 to 342\n",
      "Data columns (total 6 columns):\n",
      " #   Column           Non-Null Count  Dtype \n",
      "---  ------           --------------  ----- \n",
      " 0   id_venta         343 non-null    int64 \n",
      " 1   id_producto      343 non-null    int64 \n",
      " 2   nombre_producto  343 non-null    object\n",
      " 3   cantidad         343 non-null    int64 \n",
      " 4   precio_unitario  343 non-null    int64 \n",
      " 5   importe          343 non-null    int64 \n",
      "dtypes: int64(5), object(1)\n",
      "memory usage: 16.2+ KB\n",
      "None\n",
      "--------------------------------------------------------------------------------\n",
      "Shape of detalle_ventas: (343, 6)\n"
     ]
    }
   ],
   "source": [
    "print(detalle_ventas.head(5))\n",
    "print(\"-\"*80)\n",
    "print(detalle_ventas.info())\n",
    "print(\"-\"*80)\n",
    "print(f\"Shape of detalle_ventas: {detalle_ventas.shape}\")"
   ]
  },
  {
   "cell_type": "markdown",
   "id": "7d79d145",
   "metadata": {},
   "source": [
    "#### Inspección de la tabla \"ventas\""
   ]
  },
  {
   "cell_type": "code",
   "execution_count": 161,
   "id": "6ad030d6",
   "metadata": {},
   "outputs": [
    {
     "name": "stdout",
     "output_type": "stream",
     "text": [
      "   id_venta      fecha  id_cliente    nombre_cliente  \\\n",
      "0         1 2024-06-19          62  Guadalupe Romero   \n",
      "1         2 2024-03-17          49      Olivia Gomez   \n",
      "2         3 2024-01-13          20      Tomas Acosta   \n",
      "3         4 2024-02-27          36    Martina Molina   \n",
      "4         5 2024-06-11          56        Bruno Diaz   \n",
      "\n",
      "                       email     medio_pago  \n",
      "0  guadalupe.romero@mail.com        tarjeta  \n",
      "1      olivia.gomez@mail.com             qr  \n",
      "2      tomas.acosta@mail.com        tarjeta  \n",
      "3    martina.molina@mail.com  transferencia  \n",
      "4        bruno.diaz@mail.com        tarjeta  \n",
      "--------------------------------------------------------------------------------\n",
      "<class 'pandas.core.frame.DataFrame'>\n",
      "RangeIndex: 120 entries, 0 to 119\n",
      "Data columns (total 6 columns):\n",
      " #   Column          Non-Null Count  Dtype         \n",
      "---  ------          --------------  -----         \n",
      " 0   id_venta        120 non-null    int64         \n",
      " 1   fecha           120 non-null    datetime64[ns]\n",
      " 2   id_cliente      120 non-null    int64         \n",
      " 3   nombre_cliente  120 non-null    object        \n",
      " 4   email           120 non-null    object        \n",
      " 5   medio_pago      120 non-null    object        \n",
      "dtypes: datetime64[ns](1), int64(2), object(3)\n",
      "memory usage: 5.8+ KB\n",
      "None\n",
      "--------------------------------------------------------------------------------\n",
      "Shape of ventas: (120, 6)\n"
     ]
    }
   ],
   "source": [
    "print(ventas.head(5))\n",
    "print(\"-\"*80)\n",
    "print(ventas.info())\n",
    "print(\"-\"*80)\n",
    "print(f\"Shape of ventas: {ventas.shape}\")"
   ]
  },
  {
   "cell_type": "markdown",
   "id": "50b206f6",
   "metadata": {},
   "source": [
    "#### Inspección de la tabla \"productos\""
   ]
  },
  {
   "cell_type": "code",
   "execution_count": 162,
   "id": "a0fee1b0",
   "metadata": {},
   "outputs": [
    {
     "name": "stdout",
     "output_type": "stream",
     "text": [
      "   id_producto     nombre_producto  categoria  precio_unitario  \\\n",
      "0            1      Coca Cola 1.5L  Alimentos             2347   \n",
      "1            2          Pepsi 1.5L   Limpieza             4973   \n",
      "2            3         Sprite 1.5L  Alimentos             4964   \n",
      "3            4  Fanta Naranja 1.5L   Limpieza             2033   \n",
      "4            5  Agua Mineral 500ml  Alimentos             4777   \n",
      "\n",
      "  categoria_corregida  \n",
      "0           Alimentos  \n",
      "1           Alimentos  \n",
      "2           Alimentos  \n",
      "3           Alimentos  \n",
      "4           Alimentos  \n",
      "--------------------------------------------------------------------------------\n",
      "<class 'pandas.core.frame.DataFrame'>\n",
      "RangeIndex: 100 entries, 0 to 99\n",
      "Data columns (total 5 columns):\n",
      " #   Column               Non-Null Count  Dtype \n",
      "---  ------               --------------  ----- \n",
      " 0   id_producto          100 non-null    int64 \n",
      " 1   nombre_producto      100 non-null    object\n",
      " 2   categoria            100 non-null    object\n",
      " 3   precio_unitario      100 non-null    int64 \n",
      " 4   categoria_corregida  100 non-null    object\n",
      "dtypes: int64(2), object(3)\n",
      "memory usage: 4.0+ KB\n",
      "None\n",
      "--------------------------------------------------------------------------------\n",
      "Shape of productos: (100, 5)\n"
     ]
    }
   ],
   "source": [
    "print(productos.head(5))\n",
    "print(\"-\"*80)\n",
    "print(productos.info())\n",
    "print(\"-\"*80)\n",
    "print(f\"Shape of productos: {productos.shape}\")"
   ]
  },
  {
   "cell_type": "markdown",
   "id": "20d71dba",
   "metadata": {},
   "source": [
    "#### Inspección de la tabla \"clientes\""
   ]
  },
  {
   "cell_type": "code",
   "execution_count": 163,
   "id": "5fd1a1a2",
   "metadata": {},
   "outputs": [
    {
     "name": "stdout",
     "output_type": "stream",
     "text": [
      "   id_cliente   nombre_cliente                     email      ciudad  \\\n",
      "0           1    Mariana Lopez    mariana.lopez@mail.com  Carlos Paz   \n",
      "1           2    Nicolas Rojas    nicolas.rojas@mail.com  Carlos Paz   \n",
      "2           3  Hernan Martinez  hernan.martinez@mail.com  Rio Cuarto   \n",
      "3           4     Uma Martinez     uma.martinez@mail.com  Carlos Paz   \n",
      "4           5  Agustina Flores  agustina.flores@mail.com     Cordoba   \n",
      "\n",
      "  fecha_alta  \n",
      "0 2023-01-01  \n",
      "1 2023-01-02  \n",
      "2 2023-01-03  \n",
      "3 2023-01-04  \n",
      "4 2023-01-05  \n",
      "--------------------------------------------------------------------------------\n",
      "<class 'pandas.core.frame.DataFrame'>\n",
      "RangeIndex: 100 entries, 0 to 99\n",
      "Data columns (total 5 columns):\n",
      " #   Column          Non-Null Count  Dtype         \n",
      "---  ------          --------------  -----         \n",
      " 0   id_cliente      100 non-null    int64         \n",
      " 1   nombre_cliente  100 non-null    object        \n",
      " 2   email           100 non-null    object        \n",
      " 3   ciudad          100 non-null    object        \n",
      " 4   fecha_alta      100 non-null    datetime64[ns]\n",
      "dtypes: datetime64[ns](1), int64(1), object(3)\n",
      "memory usage: 4.0+ KB\n",
      "None\n",
      "--------------------------------------------------------------------------------\n",
      "Shape of clientes: (100, 5)\n"
     ]
    }
   ],
   "source": [
    "print(clientes.head(5))\n",
    "print(\"-\"*80)\n",
    "print(clientes.info())\n",
    "print(\"-\"*80)\n",
    "print(f\"Shape of clientes: {clientes.shape}\")"
   ]
  },
  {
   "cell_type": "markdown",
   "id": "ff50cc86",
   "metadata": {},
   "source": [
    "### Integración de datos"
   ]
  },
  {
   "cell_type": "markdown",
   "id": "23888658",
   "metadata": {},
   "source": [
    "Con base en la inspección inicial de los datos, hemos concluido que es posible la unificación de los 4 dataframes bajo las siguientes premisas:\n",
    "* Unir ventas y detalle_ventas en id_venta.\n",
    "* Unir productos y detalle_ventas en id_producto.\n",
    "* Unir clientes y ventas en id_cliente.\n",
    "A continuación se muestra la unificación con base en nuestras observaciones:"
   ]
  },
  {
   "cell_type": "code",
   "execution_count": 164,
   "id": "e7270f33",
   "metadata": {},
   "outputs": [
    {
     "data": {
      "text/html": [
       "<div>\n",
       "<style scoped>\n",
       "    .dataframe tbody tr th:only-of-type {\n",
       "        vertical-align: middle;\n",
       "    }\n",
       "\n",
       "    .dataframe tbody tr th {\n",
       "        vertical-align: top;\n",
       "    }\n",
       "\n",
       "    .dataframe thead th {\n",
       "        text-align: right;\n",
       "    }\n",
       "</style>\n",
       "<table border=\"1\" class=\"dataframe\">\n",
       "  <thead>\n",
       "    <tr style=\"text-align: right;\">\n",
       "      <th></th>\n",
       "      <th>id_venta</th>\n",
       "      <th>fecha</th>\n",
       "      <th>id_cliente</th>\n",
       "      <th>nombre_cliente_ventas</th>\n",
       "      <th>email_ventas</th>\n",
       "      <th>medio_pago</th>\n",
       "      <th>id_producto</th>\n",
       "      <th>nombre_producto_dventas</th>\n",
       "      <th>cantidad</th>\n",
       "      <th>precio_unitario_dventas</th>\n",
       "      <th>importe</th>\n",
       "      <th>nombre_producto_producto</th>\n",
       "      <th>categoria</th>\n",
       "      <th>precio_unitario_producto</th>\n",
       "      <th>categoria_corregida</th>\n",
       "      <th>nombre_cliente_cliente</th>\n",
       "      <th>email_cliente</th>\n",
       "      <th>ciudad</th>\n",
       "      <th>fecha_alta</th>\n",
       "    </tr>\n",
       "  </thead>\n",
       "  <tbody>\n",
       "    <tr>\n",
       "      <th>0</th>\n",
       "      <td>1</td>\n",
       "      <td>2024-06-19</td>\n",
       "      <td>62</td>\n",
       "      <td>Guadalupe Romero</td>\n",
       "      <td>guadalupe.romero@mail.com</td>\n",
       "      <td>tarjeta</td>\n",
       "      <td>90</td>\n",
       "      <td>Toallas Húmedas x50</td>\n",
       "      <td>1</td>\n",
       "      <td>2902</td>\n",
       "      <td>2902</td>\n",
       "      <td>Toallas Húmedas x50</td>\n",
       "      <td>Limpieza</td>\n",
       "      <td>2902</td>\n",
       "      <td>Limpieza</td>\n",
       "      <td>Guadalupe Romero</td>\n",
       "      <td>guadalupe.romero@mail.com</td>\n",
       "      <td>Carlos Paz</td>\n",
       "      <td>2023-03-03</td>\n",
       "    </tr>\n",
       "    <tr>\n",
       "      <th>1</th>\n",
       "      <td>2</td>\n",
       "      <td>2024-03-17</td>\n",
       "      <td>49</td>\n",
       "      <td>Olivia Gomez</td>\n",
       "      <td>olivia.gomez@mail.com</td>\n",
       "      <td>qr</td>\n",
       "      <td>82</td>\n",
       "      <td>Aceitunas Negras 200g</td>\n",
       "      <td>5</td>\n",
       "      <td>2394</td>\n",
       "      <td>11970</td>\n",
       "      <td>Aceitunas Negras 200g</td>\n",
       "      <td>Limpieza</td>\n",
       "      <td>2394</td>\n",
       "      <td>Alimentos</td>\n",
       "      <td>Olivia Gomez</td>\n",
       "      <td>olivia.gomez@mail.com</td>\n",
       "      <td>Rio Cuarto</td>\n",
       "      <td>2023-02-18</td>\n",
       "    </tr>\n",
       "    <tr>\n",
       "      <th>2</th>\n",
       "      <td>2</td>\n",
       "      <td>2024-03-17</td>\n",
       "      <td>49</td>\n",
       "      <td>Olivia Gomez</td>\n",
       "      <td>olivia.gomez@mail.com</td>\n",
       "      <td>qr</td>\n",
       "      <td>39</td>\n",
       "      <td>Helado Vainilla 1L</td>\n",
       "      <td>5</td>\n",
       "      <td>469</td>\n",
       "      <td>2345</td>\n",
       "      <td>Helado Vainilla 1L</td>\n",
       "      <td>Alimentos</td>\n",
       "      <td>469</td>\n",
       "      <td>Alimentos</td>\n",
       "      <td>Olivia Gomez</td>\n",
       "      <td>olivia.gomez@mail.com</td>\n",
       "      <td>Rio Cuarto</td>\n",
       "      <td>2023-02-18</td>\n",
       "    </tr>\n",
       "    <tr>\n",
       "      <th>3</th>\n",
       "      <td>2</td>\n",
       "      <td>2024-03-17</td>\n",
       "      <td>49</td>\n",
       "      <td>Olivia Gomez</td>\n",
       "      <td>olivia.gomez@mail.com</td>\n",
       "      <td>qr</td>\n",
       "      <td>70</td>\n",
       "      <td>Fernet 750ml</td>\n",
       "      <td>2</td>\n",
       "      <td>4061</td>\n",
       "      <td>8122</td>\n",
       "      <td>Fernet 750ml</td>\n",
       "      <td>Limpieza</td>\n",
       "      <td>4061</td>\n",
       "      <td>Alimentos</td>\n",
       "      <td>Olivia Gomez</td>\n",
       "      <td>olivia.gomez@mail.com</td>\n",
       "      <td>Rio Cuarto</td>\n",
       "      <td>2023-02-18</td>\n",
       "    </tr>\n",
       "    <tr>\n",
       "      <th>4</th>\n",
       "      <td>2</td>\n",
       "      <td>2024-03-17</td>\n",
       "      <td>49</td>\n",
       "      <td>Olivia Gomez</td>\n",
       "      <td>olivia.gomez@mail.com</td>\n",
       "      <td>qr</td>\n",
       "      <td>22</td>\n",
       "      <td>Medialunas de Manteca</td>\n",
       "      <td>1</td>\n",
       "      <td>2069</td>\n",
       "      <td>2069</td>\n",
       "      <td>Medialunas de Manteca</td>\n",
       "      <td>Limpieza</td>\n",
       "      <td>2069</td>\n",
       "      <td>Alimentos</td>\n",
       "      <td>Olivia Gomez</td>\n",
       "      <td>olivia.gomez@mail.com</td>\n",
       "      <td>Rio Cuarto</td>\n",
       "      <td>2023-02-18</td>\n",
       "    </tr>\n",
       "  </tbody>\n",
       "</table>\n",
       "</div>"
      ],
      "text/plain": [
       "   id_venta      fecha  id_cliente nombre_cliente_ventas  \\\n",
       "0         1 2024-06-19          62      Guadalupe Romero   \n",
       "1         2 2024-03-17          49          Olivia Gomez   \n",
       "2         2 2024-03-17          49          Olivia Gomez   \n",
       "3         2 2024-03-17          49          Olivia Gomez   \n",
       "4         2 2024-03-17          49          Olivia Gomez   \n",
       "\n",
       "                email_ventas medio_pago  id_producto nombre_producto_dventas  \\\n",
       "0  guadalupe.romero@mail.com    tarjeta           90     Toallas Húmedas x50   \n",
       "1      olivia.gomez@mail.com         qr           82   Aceitunas Negras 200g   \n",
       "2      olivia.gomez@mail.com         qr           39      Helado Vainilla 1L   \n",
       "3      olivia.gomez@mail.com         qr           70            Fernet 750ml   \n",
       "4      olivia.gomez@mail.com         qr           22   Medialunas de Manteca   \n",
       "\n",
       "   cantidad  precio_unitario_dventas  importe nombre_producto_producto  \\\n",
       "0         1                     2902     2902      Toallas Húmedas x50   \n",
       "1         5                     2394    11970    Aceitunas Negras 200g   \n",
       "2         5                      469     2345       Helado Vainilla 1L   \n",
       "3         2                     4061     8122             Fernet 750ml   \n",
       "4         1                     2069     2069    Medialunas de Manteca   \n",
       "\n",
       "   categoria  precio_unitario_producto categoria_corregida  \\\n",
       "0   Limpieza                      2902            Limpieza   \n",
       "1   Limpieza                      2394           Alimentos   \n",
       "2  Alimentos                       469           Alimentos   \n",
       "3   Limpieza                      4061           Alimentos   \n",
       "4   Limpieza                      2069           Alimentos   \n",
       "\n",
       "  nombre_cliente_cliente              email_cliente      ciudad fecha_alta  \n",
       "0       Guadalupe Romero  guadalupe.romero@mail.com  Carlos Paz 2023-03-03  \n",
       "1           Olivia Gomez      olivia.gomez@mail.com  Rio Cuarto 2023-02-18  \n",
       "2           Olivia Gomez      olivia.gomez@mail.com  Rio Cuarto 2023-02-18  \n",
       "3           Olivia Gomez      olivia.gomez@mail.com  Rio Cuarto 2023-02-18  \n",
       "4           Olivia Gomez      olivia.gomez@mail.com  Rio Cuarto 2023-02-18  "
      ]
     },
     "execution_count": 164,
     "metadata": {},
     "output_type": "execute_result"
    }
   ],
   "source": [
    "df_unified = ventas.merge(detalle_ventas, on=\"id_venta\", suffixes=(\"_ventas\", \"_dventas\"))\n",
    "df_unified = df_unified.merge(productos, on=\"id_producto\", suffixes=(\"_dventas\", \"_producto\"))\n",
    "df_unified = df_unified.merge(clientes, on=\"id_cliente\", suffixes=(\"_ventas\", \"_cliente\"))\n",
    "\n",
    "df_unified.head()"
   ]
  },
  {
   "cell_type": "markdown",
   "id": "dcc7caa5",
   "metadata": {},
   "source": [
    "Podemos observar más a detalle los nombres de las columnas para eliminar aquellas que estén duplicadas."
   ]
  },
  {
   "cell_type": "code",
   "execution_count": 165,
   "id": "7ccb6032",
   "metadata": {},
   "outputs": [
    {
     "name": "stdout",
     "output_type": "stream",
     "text": [
      "<class 'pandas.core.frame.DataFrame'>\n",
      "RangeIndex: 343 entries, 0 to 342\n",
      "Data columns (total 19 columns):\n",
      " #   Column                    Non-Null Count  Dtype         \n",
      "---  ------                    --------------  -----         \n",
      " 0   id_venta                  343 non-null    int64         \n",
      " 1   fecha                     343 non-null    datetime64[ns]\n",
      " 2   id_cliente                343 non-null    int64         \n",
      " 3   nombre_cliente_ventas     343 non-null    object        \n",
      " 4   email_ventas              343 non-null    object        \n",
      " 5   medio_pago                343 non-null    object        \n",
      " 6   id_producto               343 non-null    int64         \n",
      " 7   nombre_producto_dventas   343 non-null    object        \n",
      " 8   cantidad                  343 non-null    int64         \n",
      " 9   precio_unitario_dventas   343 non-null    int64         \n",
      " 10  importe                   343 non-null    int64         \n",
      " 11  nombre_producto_producto  343 non-null    object        \n",
      " 12  categoria                 343 non-null    object        \n",
      " 13  precio_unitario_producto  343 non-null    int64         \n",
      " 14  categoria_corregida       343 non-null    object        \n",
      " 15  nombre_cliente_cliente    343 non-null    object        \n",
      " 16  email_cliente             343 non-null    object        \n",
      " 17  ciudad                    343 non-null    object        \n",
      " 18  fecha_alta                343 non-null    datetime64[ns]\n",
      "dtypes: datetime64[ns](2), int64(7), object(10)\n",
      "memory usage: 51.0+ KB\n",
      "Shape of df_unified: (343, 19)\n"
     ]
    }
   ],
   "source": [
    "df_unified.info()\n",
    "print(f\"Shape of df_unified: {df_unified.shape}\")"
   ]
  },
  {
   "cell_type": "markdown",
   "id": "0fe2d1bf",
   "metadata": {},
   "source": [
    "Nótese que son 19 columnas en total y de ellas, se tienen duplicados de **nombre_cliente**, **email**, **nombre_producto** y **precio_unitario**. Procederemos a remover los duplicados."
   ]
  },
  {
   "cell_type": "code",
   "execution_count": 195,
   "id": "bbe42eab",
   "metadata": {},
   "outputs": [
    {
     "name": "stdout",
     "output_type": "stream",
     "text": [
      "<class 'pandas.core.frame.DataFrame'>\n",
      "RangeIndex: 343 entries, 0 to 342\n",
      "Data columns (total 15 columns):\n",
      " #   Column               Non-Null Count  Dtype \n",
      "---  ------               --------------  ----- \n",
      " 0   id_venta             343 non-null    object\n",
      " 1   fecha                343 non-null    object\n",
      " 2   id_cliente           343 non-null    object\n",
      " 3   nombre_cliente       343 non-null    object\n",
      " 4   email_ventas         343 non-null    object\n",
      " 5   medio_pago           343 non-null    object\n",
      " 6   id_producto          343 non-null    object\n",
      " 7   nombre_producto      343 non-null    object\n",
      " 8   cantidad             343 non-null    object\n",
      " 9   precio_unitario      343 non-null    object\n",
      " 10  importe              343 non-null    object\n",
      " 11  categoria            343 non-null    object\n",
      " 12  categoria_corregida  343 non-null    object\n",
      " 13  ciudad               343 non-null    object\n",
      " 14  fecha_alta           343 non-null    object\n",
      "dtypes: object(15)\n",
      "memory usage: 40.3+ KB\n",
      "Shape of df_unified: (343, 15)\n"
     ]
    }
   ],
   "source": [
    "df_unified = df_unified.T.drop_duplicates().T\n",
    "df_unified.info()\n",
    "print(f\"Shape of df_unified: {df_unified.shape}\")\n"
   ]
  },
  {
   "cell_type": "markdown",
   "id": "ce79b99e",
   "metadata": {},
   "source": [
    "Ahora tenemos 15 columnas. Nótese también que al usar la transpuesta para eliminar columnas duplicadas, se han cambiado todos los tipos de datos a \"object\". Esto se corregirá en la siguiente estapa. Mientras procederemos a renombrar aquellas columnasque no fueron eliminadas."
   ]
  },
  {
   "cell_type": "code",
   "execution_count": 196,
   "id": "a27b22fc",
   "metadata": {},
   "outputs": [
    {
     "name": "stdout",
     "output_type": "stream",
     "text": [
      "<class 'pandas.core.frame.DataFrame'>\n",
      "RangeIndex: 343 entries, 0 to 342\n",
      "Data columns (total 15 columns):\n",
      " #   Column               Non-Null Count  Dtype \n",
      "---  ------               --------------  ----- \n",
      " 0   id_venta             343 non-null    object\n",
      " 1   fecha                343 non-null    object\n",
      " 2   id_cliente           343 non-null    object\n",
      " 3   nombre_cliente       343 non-null    object\n",
      " 4   email                343 non-null    object\n",
      " 5   medio_pago           343 non-null    object\n",
      " 6   id_producto          343 non-null    object\n",
      " 7   nombre_producto      343 non-null    object\n",
      " 8   cantidad             343 non-null    object\n",
      " 9   precio_unitario      343 non-null    object\n",
      " 10  importe              343 non-null    object\n",
      " 11  categoria            343 non-null    object\n",
      " 12  categoria_corregida  343 non-null    object\n",
      " 13  ciudad               343 non-null    object\n",
      " 14  fecha_alta           343 non-null    object\n",
      "dtypes: object(15)\n",
      "memory usage: 40.3+ KB\n"
     ]
    }
   ],
   "source": [
    "df_unified = df_unified.rename(\n",
    "    columns={\n",
    "        \"nombre_cliente_ventas\": \"nombre_cliente\",\n",
    "        \"email_ventas\": \"email\",\n",
    "        \"nombre_producto_dventas\": \"nombre_producto\",\n",
    "        \"precio_unitario_dventas\": \"precio_unitario\",\n",
    "    }\n",
    ")\n",
    "df_unified.info()"
   ]
  },
  {
   "cell_type": "markdown",
   "id": "29e8aa66",
   "metadata": {},
   "source": [
    "### Cálculo de estadísticas descriptivas básicas"
   ]
  },
  {
   "cell_type": "code",
   "execution_count": 197,
   "id": "4edef828",
   "metadata": {},
   "outputs": [
    {
     "name": "stderr",
     "output_type": "stream",
     "text": [
      "C:\\Users\\motam\\AppData\\Local\\Temp\\ipykernel_1204\\154445536.py:1: FutureWarning: The behavior of value_counts with object-dtype is deprecated. In a future version, this will *not* perform dtype inference on the resulting index. To retain the old behavior, use `result.index = result.index.infer_objects()`\n",
      "  df_unified.describe(include='all')\n",
      "C:\\Users\\motam\\AppData\\Local\\Temp\\ipykernel_1204\\154445536.py:1: FutureWarning: The behavior of value_counts with object-dtype is deprecated. In a future version, this will *not* perform dtype inference on the resulting index. To retain the old behavior, use `result.index = result.index.infer_objects()`\n",
      "  df_unified.describe(include='all')\n"
     ]
    },
    {
     "data": {
      "text/html": [
       "<div>\n",
       "<style scoped>\n",
       "    .dataframe tbody tr th:only-of-type {\n",
       "        vertical-align: middle;\n",
       "    }\n",
       "\n",
       "    .dataframe tbody tr th {\n",
       "        vertical-align: top;\n",
       "    }\n",
       "\n",
       "    .dataframe thead th {\n",
       "        text-align: right;\n",
       "    }\n",
       "</style>\n",
       "<table border=\"1\" class=\"dataframe\">\n",
       "  <thead>\n",
       "    <tr style=\"text-align: right;\">\n",
       "      <th></th>\n",
       "      <th>id_venta</th>\n",
       "      <th>fecha</th>\n",
       "      <th>id_cliente</th>\n",
       "      <th>nombre_cliente</th>\n",
       "      <th>email</th>\n",
       "      <th>medio_pago</th>\n",
       "      <th>id_producto</th>\n",
       "      <th>nombre_producto</th>\n",
       "      <th>cantidad</th>\n",
       "      <th>precio_unitario</th>\n",
       "      <th>importe</th>\n",
       "      <th>categoria</th>\n",
       "      <th>categoria_corregida</th>\n",
       "      <th>ciudad</th>\n",
       "      <th>fecha_alta</th>\n",
       "    </tr>\n",
       "  </thead>\n",
       "  <tbody>\n",
       "    <tr>\n",
       "      <th>count</th>\n",
       "      <td>343</td>\n",
       "      <td>343</td>\n",
       "      <td>343</td>\n",
       "      <td>343</td>\n",
       "      <td>343</td>\n",
       "      <td>343</td>\n",
       "      <td>343</td>\n",
       "      <td>343</td>\n",
       "      <td>343</td>\n",
       "      <td>343.0</td>\n",
       "      <td>343.0</td>\n",
       "      <td>343</td>\n",
       "      <td>343</td>\n",
       "      <td>343</td>\n",
       "      <td>343</td>\n",
       "    </tr>\n",
       "    <tr>\n",
       "      <th>unique</th>\n",
       "      <td>120</td>\n",
       "      <td>93</td>\n",
       "      <td>67</td>\n",
       "      <td>64</td>\n",
       "      <td>67</td>\n",
       "      <td>4</td>\n",
       "      <td>95</td>\n",
       "      <td>95</td>\n",
       "      <td>5</td>\n",
       "      <td>94.0</td>\n",
       "      <td>249.0</td>\n",
       "      <td>2</td>\n",
       "      <td>2</td>\n",
       "      <td>6</td>\n",
       "      <td>67</td>\n",
       "    </tr>\n",
       "    <tr>\n",
       "      <th>top</th>\n",
       "      <td>2</td>\n",
       "      <td>2024-01-19 00:00:00</td>\n",
       "      <td>5</td>\n",
       "      <td>Agustina Flores</td>\n",
       "      <td>agustina.flores@mail.com</td>\n",
       "      <td>efectivo</td>\n",
       "      <td>18</td>\n",
       "      <td>Queso Rallado 150g</td>\n",
       "      <td>2</td>\n",
       "      <td>3444.0</td>\n",
       "      <td>4752.0</td>\n",
       "      <td>Limpieza</td>\n",
       "      <td>Alimentos</td>\n",
       "      <td>Rio Cuarto</td>\n",
       "      <td>2023-01-05 00:00:00</td>\n",
       "    </tr>\n",
       "    <tr>\n",
       "      <th>freq</th>\n",
       "      <td>5</td>\n",
       "      <td>10</td>\n",
       "      <td>15</td>\n",
       "      <td>15</td>\n",
       "      <td>15</td>\n",
       "      <td>111</td>\n",
       "      <td>9</td>\n",
       "      <td>9</td>\n",
       "      <td>83</td>\n",
       "      <td>9.0</td>\n",
       "      <td>4.0</td>\n",
       "      <td>178</td>\n",
       "      <td>286</td>\n",
       "      <td>104</td>\n",
       "      <td>15</td>\n",
       "    </tr>\n",
       "  </tbody>\n",
       "</table>\n",
       "</div>"
      ],
      "text/plain": [
       "        id_venta                fecha  id_cliente   nombre_cliente  \\\n",
       "count        343                  343         343              343   \n",
       "unique       120                   93          67               64   \n",
       "top            2  2024-01-19 00:00:00           5  Agustina Flores   \n",
       "freq           5                   10          15               15   \n",
       "\n",
       "                           email medio_pago  id_producto     nombre_producto  \\\n",
       "count                        343        343          343                 343   \n",
       "unique                        67          4           95                  95   \n",
       "top     agustina.flores@mail.com   efectivo           18  Queso Rallado 150g   \n",
       "freq                          15        111            9                   9   \n",
       "\n",
       "        cantidad  precio_unitario  importe categoria categoria_corregida  \\\n",
       "count        343            343.0    343.0       343                 343   \n",
       "unique         5             94.0    249.0         2                   2   \n",
       "top            2           3444.0   4752.0  Limpieza           Alimentos   \n",
       "freq          83              9.0      4.0       178                 286   \n",
       "\n",
       "            ciudad           fecha_alta  \n",
       "count          343                  343  \n",
       "unique           6                   67  \n",
       "top     Rio Cuarto  2023-01-05 00:00:00  \n",
       "freq           104                   15  "
      ]
     },
     "execution_count": 197,
     "metadata": {},
     "output_type": "execute_result"
    }
   ],
   "source": [
    "df_unified.describe(include='all')"
   ]
  },
  {
   "cell_type": "markdown",
   "id": "6f539833",
   "metadata": {},
   "source": [
    "## 3. Limpieza y transformación de datos"
   ]
  },
  {
   "cell_type": "markdown",
   "id": "1b187380",
   "metadata": {},
   "source": [
    "### Corrección de tipos de datos"
   ]
  },
  {
   "cell_type": "markdown",
   "id": "b03b4e4d",
   "metadata": {},
   "source": [
    "Sabemos que en el proceso de integración de datos, los tipos de datos de las columnas del dataframe fueron cambiadas, por tanto, procederemos a esta corrección. Primero visualizaremos nuevamente nuestros datos."
   ]
  },
  {
   "cell_type": "code",
   "execution_count": 198,
   "id": "a129a03b",
   "metadata": {},
   "outputs": [
    {
     "data": {
      "text/html": [
       "<div>\n",
       "<style scoped>\n",
       "    .dataframe tbody tr th:only-of-type {\n",
       "        vertical-align: middle;\n",
       "    }\n",
       "\n",
       "    .dataframe tbody tr th {\n",
       "        vertical-align: top;\n",
       "    }\n",
       "\n",
       "    .dataframe thead th {\n",
       "        text-align: right;\n",
       "    }\n",
       "</style>\n",
       "<table border=\"1\" class=\"dataframe\">\n",
       "  <thead>\n",
       "    <tr style=\"text-align: right;\">\n",
       "      <th></th>\n",
       "      <th>id_venta</th>\n",
       "      <th>fecha</th>\n",
       "      <th>id_cliente</th>\n",
       "      <th>nombre_cliente</th>\n",
       "      <th>email</th>\n",
       "      <th>medio_pago</th>\n",
       "      <th>id_producto</th>\n",
       "      <th>nombre_producto</th>\n",
       "      <th>cantidad</th>\n",
       "      <th>precio_unitario</th>\n",
       "      <th>importe</th>\n",
       "      <th>categoria</th>\n",
       "      <th>categoria_corregida</th>\n",
       "      <th>ciudad</th>\n",
       "      <th>fecha_alta</th>\n",
       "    </tr>\n",
       "  </thead>\n",
       "  <tbody>\n",
       "    <tr>\n",
       "      <th>0</th>\n",
       "      <td>1</td>\n",
       "      <td>2024-06-19 00:00:00</td>\n",
       "      <td>62</td>\n",
       "      <td>Guadalupe Romero</td>\n",
       "      <td>guadalupe.romero@mail.com</td>\n",
       "      <td>tarjeta</td>\n",
       "      <td>90</td>\n",
       "      <td>Toallas Húmedas x50</td>\n",
       "      <td>1</td>\n",
       "      <td>2902.0</td>\n",
       "      <td>2902.0</td>\n",
       "      <td>Limpieza</td>\n",
       "      <td>Limpieza</td>\n",
       "      <td>Carlos Paz</td>\n",
       "      <td>2023-03-03 00:00:00</td>\n",
       "    </tr>\n",
       "    <tr>\n",
       "      <th>1</th>\n",
       "      <td>2</td>\n",
       "      <td>2024-03-17 00:00:00</td>\n",
       "      <td>49</td>\n",
       "      <td>Olivia Gomez</td>\n",
       "      <td>olivia.gomez@mail.com</td>\n",
       "      <td>qr</td>\n",
       "      <td>82</td>\n",
       "      <td>Aceitunas Negras 200g</td>\n",
       "      <td>5</td>\n",
       "      <td>2394.0</td>\n",
       "      <td>11970.0</td>\n",
       "      <td>Limpieza</td>\n",
       "      <td>Alimentos</td>\n",
       "      <td>Rio Cuarto</td>\n",
       "      <td>2023-02-18 00:00:00</td>\n",
       "    </tr>\n",
       "    <tr>\n",
       "      <th>2</th>\n",
       "      <td>2</td>\n",
       "      <td>2024-03-17 00:00:00</td>\n",
       "      <td>49</td>\n",
       "      <td>Olivia Gomez</td>\n",
       "      <td>olivia.gomez@mail.com</td>\n",
       "      <td>qr</td>\n",
       "      <td>39</td>\n",
       "      <td>Helado Vainilla 1L</td>\n",
       "      <td>5</td>\n",
       "      <td>469.0</td>\n",
       "      <td>2345.0</td>\n",
       "      <td>Alimentos</td>\n",
       "      <td>Alimentos</td>\n",
       "      <td>Rio Cuarto</td>\n",
       "      <td>2023-02-18 00:00:00</td>\n",
       "    </tr>\n",
       "    <tr>\n",
       "      <th>3</th>\n",
       "      <td>2</td>\n",
       "      <td>2024-03-17 00:00:00</td>\n",
       "      <td>49</td>\n",
       "      <td>Olivia Gomez</td>\n",
       "      <td>olivia.gomez@mail.com</td>\n",
       "      <td>qr</td>\n",
       "      <td>70</td>\n",
       "      <td>Fernet 750ml</td>\n",
       "      <td>2</td>\n",
       "      <td>4061.0</td>\n",
       "      <td>8122.0</td>\n",
       "      <td>Limpieza</td>\n",
       "      <td>Alimentos</td>\n",
       "      <td>Rio Cuarto</td>\n",
       "      <td>2023-02-18 00:00:00</td>\n",
       "    </tr>\n",
       "    <tr>\n",
       "      <th>4</th>\n",
       "      <td>2</td>\n",
       "      <td>2024-03-17 00:00:00</td>\n",
       "      <td>49</td>\n",
       "      <td>Olivia Gomez</td>\n",
       "      <td>olivia.gomez@mail.com</td>\n",
       "      <td>qr</td>\n",
       "      <td>22</td>\n",
       "      <td>Medialunas de Manteca</td>\n",
       "      <td>1</td>\n",
       "      <td>2069.0</td>\n",
       "      <td>2069.0</td>\n",
       "      <td>Limpieza</td>\n",
       "      <td>Alimentos</td>\n",
       "      <td>Rio Cuarto</td>\n",
       "      <td>2023-02-18 00:00:00</td>\n",
       "    </tr>\n",
       "  </tbody>\n",
       "</table>\n",
       "</div>"
      ],
      "text/plain": [
       "  id_venta                fecha id_cliente    nombre_cliente  \\\n",
       "0        1  2024-06-19 00:00:00         62  Guadalupe Romero   \n",
       "1        2  2024-03-17 00:00:00         49      Olivia Gomez   \n",
       "2        2  2024-03-17 00:00:00         49      Olivia Gomez   \n",
       "3        2  2024-03-17 00:00:00         49      Olivia Gomez   \n",
       "4        2  2024-03-17 00:00:00         49      Olivia Gomez   \n",
       "\n",
       "                       email medio_pago id_producto        nombre_producto  \\\n",
       "0  guadalupe.romero@mail.com    tarjeta          90    Toallas Húmedas x50   \n",
       "1      olivia.gomez@mail.com         qr          82  Aceitunas Negras 200g   \n",
       "2      olivia.gomez@mail.com         qr          39     Helado Vainilla 1L   \n",
       "3      olivia.gomez@mail.com         qr          70           Fernet 750ml   \n",
       "4      olivia.gomez@mail.com         qr          22  Medialunas de Manteca   \n",
       "\n",
       "  cantidad precio_unitario  importe  categoria categoria_corregida  \\\n",
       "0        1          2902.0   2902.0   Limpieza            Limpieza   \n",
       "1        5          2394.0  11970.0   Limpieza           Alimentos   \n",
       "2        5           469.0   2345.0  Alimentos           Alimentos   \n",
       "3        2          4061.0   8122.0   Limpieza           Alimentos   \n",
       "4        1          2069.0   2069.0   Limpieza           Alimentos   \n",
       "\n",
       "       ciudad           fecha_alta  \n",
       "0  Carlos Paz  2023-03-03 00:00:00  \n",
       "1  Rio Cuarto  2023-02-18 00:00:00  \n",
       "2  Rio Cuarto  2023-02-18 00:00:00  \n",
       "3  Rio Cuarto  2023-02-18 00:00:00  \n",
       "4  Rio Cuarto  2023-02-18 00:00:00  "
      ]
     },
     "execution_count": 198,
     "metadata": {},
     "output_type": "execute_result"
    }
   ],
   "source": [
    "df_unified.head(5)"
   ]
  },
  {
   "cell_type": "markdown",
   "id": "2ba9e251",
   "metadata": {},
   "source": [
    "Procederemos a la correción del tipo utilizando \"astype\":"
   ]
  },
  {
   "cell_type": "code",
   "execution_count": 199,
   "id": "52840585",
   "metadata": {},
   "outputs": [],
   "source": [
    "df_unified = df_unified.astype(\n",
    "    {\n",
    "        \"id_venta\": \"int\",\n",
    "        \"fecha\": \"datetime64[ns]\",\n",
    "        \"id_cliente\": \"int\",\n",
    "        \"nombre_cliente\": \"string\",\n",
    "        \"email\": \"string\",\n",
    "        \"medio_pago\": \"string\",\n",
    "        \"id_producto\": \"int\",\n",
    "        \"nombre_producto\": \"string\",\n",
    "        \"cantidad\": \"int\",\n",
    "        \"precio_unitario\": \"float\",\n",
    "        \"importe\": \"float\",\n",
    "        \"categoria\": \"string\",\n",
    "        \"categoria_corregida\": \"string\",\n",
    "        \"ciudad\": \"string\",\n",
    "        \"fecha_alta\": \"datetime64[ns]\"\n",
    "    }\n",
    ")"
   ]
  },
  {
   "cell_type": "markdown",
   "id": "7dee5221",
   "metadata": {},
   "source": [
    "Vamos a comprobar los cambios con dtypes:"
   ]
  },
  {
   "cell_type": "code",
   "execution_count": 194,
   "id": "b3b7d5e3",
   "metadata": {},
   "outputs": [
    {
     "data": {
      "text/plain": [
       "id_venta                        int64\n",
       "fecha                  datetime64[ns]\n",
       "id_cliente                      int64\n",
       "nombre_cliente         string[python]\n",
       "email_ventas           string[python]\n",
       "medio_pago             string[python]\n",
       "id_producto                     int64\n",
       "nombre_producto        string[python]\n",
       "cantidad                        int64\n",
       "precio_unitario               float64\n",
       "importe                       float64\n",
       "categoria              string[python]\n",
       "categoria_corregida    string[python]\n",
       "ciudad                 string[python]\n",
       "fecha_alta             datetime64[ns]\n",
       "dtype: object"
      ]
     },
     "execution_count": 194,
     "metadata": {},
     "output_type": "execute_result"
    }
   ],
   "source": [
    "df_unified.dtypes"
   ]
  },
  {
   "cell_type": "markdown",
   "id": "b0ec2aa7",
   "metadata": {},
   "source": [
    "### Tratamiento de datos ausentes"
   ]
  },
  {
   "cell_type": "markdown",
   "id": "a2574315",
   "metadata": {},
   "source": [
    "### Tratamiento de inconsistencias de formato"
   ]
  },
  {
   "cell_type": "markdown",
   "id": "bd696935",
   "metadata": {},
   "source": [
    "De igual forma, procederemos a eliminar \"categoría\" y renombrar \"categoría_corregida\", dado el proceso que se le aplicó en el sprint 1."
   ]
  },
  {
   "cell_type": "code",
   "execution_count": 200,
   "id": "86170423",
   "metadata": {},
   "outputs": [
    {
     "name": "stdout",
     "output_type": "stream",
     "text": [
      "<class 'pandas.core.frame.DataFrame'>\n",
      "RangeIndex: 343 entries, 0 to 342\n",
      "Data columns (total 14 columns):\n",
      " #   Column           Non-Null Count  Dtype         \n",
      "---  ------           --------------  -----         \n",
      " 0   id_venta         343 non-null    int64         \n",
      " 1   fecha            343 non-null    datetime64[ns]\n",
      " 2   id_cliente       343 non-null    int64         \n",
      " 3   nombre_cliente   343 non-null    string        \n",
      " 4   email            343 non-null    string        \n",
      " 5   medio_pago       343 non-null    string        \n",
      " 6   id_producto      343 non-null    int64         \n",
      " 7   nombre_producto  343 non-null    string        \n",
      " 8   cantidad         343 non-null    int64         \n",
      " 9   precio_unitario  343 non-null    float64       \n",
      " 10  importe          343 non-null    float64       \n",
      " 11  categoria        343 non-null    string        \n",
      " 12  ciudad           343 non-null    string        \n",
      " 13  fecha_alta       343 non-null    datetime64[ns]\n",
      "dtypes: datetime64[ns](2), float64(2), int64(4), string(6)\n",
      "memory usage: 37.6 KB\n"
     ]
    }
   ],
   "source": [
    "df_unified = df_unified.drop(columns=[\"categoria\"])\n",
    "df_unified = df_unified.rename(columns={\"categoria_corregida\": \"categoria\"})\n",
    "df_unified.info()"
   ]
  },
  {
   "cell_type": "markdown",
   "id": "4fb7400a",
   "metadata": {},
   "source": [
    "### Eliminación de duplicados"
   ]
  },
  {
   "cell_type": "markdown",
   "id": "65b925ab",
   "metadata": {},
   "source": [
    "# 4. Tratamiento de datos atípicos"
   ]
  },
  {
   "cell_type": "markdown",
   "id": "3cdb8e73",
   "metadata": {},
   "source": [
    "# 5. Análisis univariado"
   ]
  },
  {
   "cell_type": "markdown",
   "id": "55515836",
   "metadata": {},
   "source": [
    "# 6. Análisis bivariado (asociaciones y correlaciones)"
   ]
  },
  {
   "cell_type": "markdown",
   "id": "f46edb03",
   "metadata": {},
   "source": [
    "# 7. Análisis de tendencias"
   ]
  },
  {
   "cell_type": "code",
   "execution_count": 201,
   "id": "d8d96362",
   "metadata": {},
   "outputs": [
    {
     "name": "stdout",
     "output_type": "stream",
     "text": [
      "\n",
      "DataFrame con fechas aleatorias de 2025 reemplazadas:\n",
      "   id_venta      fecha  id_cliente    nombre_cliente  \\\n",
      "0         1 2025-06-28          62  Guadalupe Romero   \n",
      "1         2 2025-12-25          49      Olivia Gomez   \n",
      "2         3 2025-01-20          20      Tomas Acosta   \n",
      "3         4 2025-03-04          36    Martina Molina   \n",
      "4         5 2025-09-06          56        Bruno Diaz   \n",
      "\n",
      "                       email     medio_pago  \n",
      "0  guadalupe.romero@mail.com        tarjeta  \n",
      "1      olivia.gomez@mail.com             qr  \n",
      "2      tomas.acosta@mail.com        tarjeta  \n",
      "3    martina.molina@mail.com  transferencia  \n",
      "4        bruno.diaz@mail.com        tarjeta  \n"
     ]
    },
    {
     "data": {
      "image/png": "[encoded data removed]",
      "text/plain": [
       "<Figure size 1000x600 with 1 Axes>"
      ]
     },
     "metadata": {},
     "output_type": "display_data"
    }
   ],
   "source": [
    "ventas_2024 = pd.read_excel(\"./data/ventas.xlsx\")\n",
    "ventas_2025 = ventas_2024.copy()\n",
    "num_filas = len(ventas_2024['fecha'])\n",
    "# 3. Definir el rango de fechas para 2025\n",
    "fecha_inicio = pd.to_datetime('2025-01-01')\n",
    "fecha_fin = pd.to_datetime('2025-12-31')\n",
    "rango_dias = (fecha_fin - fecha_inicio).days\n",
    "\n",
    "# 4. Generar fechas aleatorias\n",
    "# Creamos una serie de días aleatorios dentro del rango 2025\n",
    "dias_aleatorios = np.random.randint(0, rango_dias + 1, size=num_filas)\n",
    "\n",
    "# Sumamos los días aleatorios a la fecha de inicio para obtener las fechas finales\n",
    "fechas_aleatorias_2025 = fecha_inicio + pd.to_timedelta(dias_aleatorios, unit='D')\n",
    "\n",
    "# 5. Reemplazar la columna 'Fecha' con las nuevas fechas aleatorias de 2025\n",
    "ventas_2025['fecha'] = fechas_aleatorias_2025\n",
    "\n",
    "# 6. Mostrar el resultado (las primeras 5 filas)\n",
    "print(\"\\nDataFrame con fechas aleatorias de 2025 reemplazadas:\")\n",
    "print(ventas_2025.head())\n",
    "\n",
    "# OPCIONAL: Guardar el resultado en un nuevo archivo Excel\n",
    "# df.to_excel(\"ventas_2025_aleatorias.xlsx\", index=False)\n",
    "\n",
    "# 2️⃣ Convertir la columna 'fecha' a tipo datetime\n",
    "ventas_2024[\"fecha\"] = pd.to_datetime(ventas_2024[\"fecha\"])\n",
    "ventas_2025[\"fecha\"] = pd.to_datetime(ventas_2025[\"fecha\"])\n",
    "\n",
    "# 3️⃣ Extraer el mes de la fecha\n",
    "ventas_2024[\"mes\"] = ventas_2024[\"fecha\"].dt.month\n",
    "ventas_2025[\"mes\"] = ventas_2025[\"fecha\"].dt.month\n",
    "\n",
    "# 4️⃣ Agrupar por mes y contar ventas (o sumar montos si tienes una columna de totales)\n",
    "ventas_2024_mes = ventas_2024.groupby(\"mes\").size()\n",
    "ventas_2025_mes = ventas_2025.groupby(\"mes\").size()\n",
    "\n",
    "# 5️⃣ Alinear ambos años para asegurar que todos los meses estén presentes\n",
    "meses = range(1, 13)\n",
    "ventas_2024_mes = ventas_2024_mes.reindex(meses, fill_value=0)\n",
    "ventas_2025_mes = ventas_2025_mes.reindex(meses, fill_value=0)\n",
    "\n",
    "# 6️⃣ Preparar datos para el gráfico\n",
    "categorias = ['Ene', 'Feb', 'Mar', 'Abr', 'May', 'Jun', \n",
    "              'Jul', 'Ago', 'Sep', 'Oct', 'Nov', 'Dic']\n",
    "ventas_2024 = ventas_2024_mes.values\n",
    "ventas_2025 = ventas_2025_mes.values\n",
    "\n",
    "x = np.arange(len(categorias))  # posiciones para cada categoría\n",
    "width = 0.35  # ancho de cada barra\n",
    "\n",
    "# 7️⃣ Crear el gráfico\n",
    "plt.figure(figsize=(10, 6))\n",
    "plt.bar(x - width/2, ventas_2024, width=width, label='2024', color='cornflowerblue')\n",
    "plt.bar(x + width/2, ventas_2025, width=width, label='2025', color='salmon')\n",
    "\n",
    "# 8️⃣ Personalizar\n",
    "plt.title(\"Comparación de Ventas 2024 vs 2025\")\n",
    "plt.xlabel(\"Mes\")\n",
    "plt.ylabel(\"Número de Ventas\")\n",
    "plt.xticks(x, categorias)\n",
    "plt.legend()\n",
    "plt.grid(axis='y', linestyle='--', alpha=0.7)\n",
    "plt.tight_layout()\n",
    "plt.show()"
   ]
  },
  {
   "cell_type": "markdown",
   "id": "51ffb3ab",
   "metadata": {},
   "source": [
    "# 8. Conclusiones"
   ]
  }
 ],
 "metadata": {
  "kernelspec": {
   "display_name": ".venv",
   "language": "python",
   "name": "python3"
  },
  "language_info": {
   "codemirror_mode": {
    "name": "ipython",
    "version": 3
   },
   "file_extension": ".py",
   "mimetype": "text/x-python",
   "name": "python",
   "nbconvert_exporter": "python",
   "pygments_lexer": "ipython3",
   "version": "3.11.7"
  }
 },
 "nbformat": 4,
 "nbformat_minor": 5
}
